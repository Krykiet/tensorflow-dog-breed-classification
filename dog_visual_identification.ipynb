{
  "nbformat": 4,
  "nbformat_minor": 0,
  "metadata": {
    "colab": {
      "name": "dog-visual-identification.ipynb",
      "provenance": [],
      "mount_file_id": "1ct5AG51BQQpyzaQ3NGHDDYWgmWPaC9yc",
      "authorship_tag": "ABX9TyNzJ7H6y3gLW3KioEAQ2+qP",
      "include_colab_link": true
    },
    "kernelspec": {
      "name": "python3",
      "display_name": "Python 3"
    },
    "language_info": {
      "name": "python"
    }
  },
  "cells": [
    {
      "cell_type": "markdown",
      "metadata": {
        "id": "view-in-github",
        "colab_type": "text"
      },
      "source": [
        "<a href=\"https://colab.research.google.com/github/Krykiet/tensorflow-dog-breed-classification/blob/main/dog_visual_identification.ipynb\" target=\"_parent\"><img src=\"https://colab.research.google.com/assets/colab-badge.svg\" alt=\"Open In Colab\"/></a>"
      ]
    },
    {
      "cell_type": "code",
      "source": [
        ""
      ],
      "metadata": {
        "id": "e5_1e2izwat6"
      },
      "execution_count": null,
      "outputs": []
    },
    {
      "cell_type": "markdown",
      "source": [
        "# 🐶 End-to-end Multi-class Dog Breed Classification\n",
        "\n",
        "Multi-Class image classifier using TensorFlow and TensorFlow Hub.\n",
        "\n",
        "## 1. Problem\n",
        "\n",
        "Identifying the breed of a dog given an image of a dog.\n",
        "\n",
        "## 2. Data\n",
        "\n",
        "Data is from Kaggle's dog breed identification competition.\n",
        "\n",
        "https://www.kaggle.com/competitions/dog-breed-identification/data\n",
        "\n",
        "## 3. Evaluation\n",
        "\n",
        "The evaluation is a file with prediction probabilities for each dog breed prediction.\n",
        "\n",
        "## 4. Features\n",
        "\n",
        "Information about the data:\n",
        "* Images (unstructured data)\n",
        "* 120 breeds of dogs (120 classes)\n",
        "* 10,000+ images in the training set (with labels)\n",
        "* 10,000+ images in the test set (without labels - to classify)\n",
        "\n"
      ],
      "metadata": {
        "id": "g4tiWKd7ylcR"
      }
    },
    {
      "cell_type": "code",
      "source": [
        ""
      ],
      "metadata": {
        "id": "6VO33dEi0JYC"
      },
      "execution_count": null,
      "outputs": []
    }
  ]
}