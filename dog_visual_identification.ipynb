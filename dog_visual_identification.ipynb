{
  "nbformat": 4,
  "nbformat_minor": 0,
  "metadata": {
    "colab": {
      "name": "dog-visual-identification.ipynb",
      "provenance": [],
      "mount_file_id": "1ct5AG51BQQpyzaQ3NGHDDYWgmWPaC9yc",
      "authorship_tag": "ABX9TyO336X+mBYqeef27wfbferx",
      "include_colab_link": true
    },
    "kernelspec": {
      "name": "python3",
      "display_name": "Python 3"
    },
    "language_info": {
      "name": "python"
    }
  },
  "cells": [
    {
      "cell_type": "markdown",
      "metadata": {
        "id": "view-in-github",
        "colab_type": "text"
      },
      "source": [
        "<a href=\"https://colab.research.google.com/github/Krykiet/tensorflow-dog-breed-classification/blob/main/dog_visual_identification.ipynb\" target=\"_parent\"><img src=\"https://colab.research.google.com/assets/colab-badge.svg\" alt=\"Open In Colab\"/></a>"
      ]
    },
    {
      "cell_type": "code",
      "source": [
        ""
      ],
      "metadata": {
        "id": "e5_1e2izwat6"
      },
      "execution_count": null,
      "outputs": []
    },
    {
      "cell_type": "markdown",
      "source": [
        "# 🐶 End-to-end Multi-class Dog Breed Classification\n",
        "\n",
        "Multi-Class image classifier using TensorFlow and TensorFlow Hub.\n",
        "\n",
        "## 1. Problem\n",
        "\n",
        "Identifying the breed of a dog given an image of a dog.\n",
        "\n",
        "## 2. Data\n",
        "\n",
        "Data is from Kaggle's dog breed identification competition.\n",
        "\n",
        "https://www.kaggle.com/competitions/dog-breed-identification/data\n",
        "\n",
        "## 3. Evaluation\n",
        "\n",
        "The evaluation is a file with prediction probabilities for each dog breed prediction.\n",
        "\n",
        "## 4. Features\n",
        "\n",
        "Information about the data:\n",
        "* Images (unstructured data)\n",
        "* 120 breeds of dogs (120 classes)\n",
        "* 10,000+ images in the training set (with labels)\n",
        "* 10,000+ images in the test set (without labels - to classify)\n",
        "\n"
      ],
      "metadata": {
        "id": "g4tiWKd7ylcR"
      }
    },
    {
      "cell_type": "markdown",
      "source": [
        "### Getting workspace ready"
      ],
      "metadata": {
        "id": "Nh9Rumqv0tld"
      }
    },
    {
      "cell_type": "code",
      "source": [
        "# Import TensorFlow into Colab\n",
        "import tensorflow as tf\n",
        "print(\"TF version:\", tf.__version__)"
      ],
      "metadata": {
        "colab": {
          "base_uri": "https://localhost:8080/"
        },
        "id": "6VO33dEi0JYC",
        "outputId": "b0c65ced-b0e8-41a7-98e7-7f29b47df1cd"
      },
      "execution_count": 14,
      "outputs": [
        {
          "output_type": "stream",
          "name": "stdout",
          "text": [
            "TF version: 2.8.2\n"
          ]
        }
      ]
    },
    {
      "cell_type": "code",
      "source": [
        ""
      ],
      "metadata": {
        "id": "zQvJOkum0mV9"
      },
      "execution_count": null,
      "outputs": []
    }
  ]
}